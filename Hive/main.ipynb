{
 "cells": [
  {
   "cell_type": "code",
   "execution_count": null,
   "metadata": {},
   "outputs": [],
   "source": [
    "!pip install PyHive thrift thrift-sasl"
   ]
  },
  {
   "cell_type": "code",
   "execution_count": 3,
   "metadata": {},
   "outputs": [
    {
     "name": "stdout",
     "output_type": "stream",
     "text": [
      "(4,)\n"
     ]
    }
   ],
   "source": [
    "from pyhive import hive \n",
    "\n",
    "conn = hive.connect(\n",
    "    host='localhost',\n",
    "    port= 10000,\n",
    "    username='hive',\n",
    "    auth='NONE',\n",
    ")\n",
    "\n",
    "cursor = conn.cursor()\n",
    "cursor.execute('SELECT 2+2')\n",
    "results = cursor.fetchall()\n",
    "\n",
    "for row in results:\n",
    "    print(row)\n",
    "\n",
    "cursor.close()\n",
    "conn.close()\n"
   ]
  },
  {
   "cell_type": "markdown",
   "metadata": {},
   "source": [
    "Пример использования в Jupyter Notebook"
   ]
  },
  {
   "cell_type": "code",
   "execution_count": 4,
   "metadata": {},
   "outputs": [
    {
     "name": "stdout",
     "output_type": "stream",
     "text": [
      "(2, 'Jane Smith', 60000.0)\n",
      "(1, 'John Doe', 50000.0)\n"
     ]
    }
   ],
   "source": [
    "conn = hive.connect(host='localhost', port=10000)\n",
    "cursor = conn.cursor()\n",
    "\n",
    "\n",
    "cursor.execute('CREATE TABLE IF NOT EXISTS employees (id INT, name STRING, salary DOUBLE)')\n",
    "\n",
    "cursor.execute(\"INSERT INTO employees VALUES (1, 'John Doe', 50000.00)\")\n",
    "cursor.execute(\"INSERT INTO employees VALUES (2, 'Jane Smith', 60000.00)\")\n",
    "\n",
    "cursor.execute('SELECT * FROM employees')\n",
    "\n",
    "for row in cursor.fetchall():\n",
    "    print(row)\n",
    "\n",
    "cursor.close()\n",
    "conn.close()"
   ]
  },
  {
   "cell_type": "code",
   "execution_count": 14,
   "metadata": {},
   "outputs": [],
   "source": [
    "conn = hive.connect(host='localhost', port=10000)\n",
    "cursor = conn.cursor()\n",
    "\n",
    "cursor.execute(\"DROP TABLE IF EXISTS students\")\n",
    "\n",
    "cursor.execute(\"\"\"\n",
    "    CREATE TABLE students (\n",
    "        student_id INT,\n",
    "        name STRING,\n",
    "        age INT,\n",
    "        major STRING,\n",
    "        enrollment_date STRING\n",
    "    )\n",
    "    ROW FORMAT DELIMITED\n",
    "    FIELDS TERMINATED BY ','\n",
    "    STORED AS TEXTFILE\n",
    "    tblproperties (\"skip.header.line.count\"=\"1\")\n",
    "\"\"\")\n",
    "\n",
    "# Загружаем данные из файла в таблицу\n",
    "cursor.execute(\"\"\"\n",
    "    LOAD DATA INPATH '/opt/hive/data/warehouse/students.csv' \n",
    "    INTO TABLE students\n",
    "\"\"\")\n",
    "\n",
    "cursor.close()\n",
    "conn.close()"
   ]
  },
  {
   "cell_type": "code",
   "execution_count": 16,
   "metadata": {},
   "outputs": [
    {
     "name": "stdout",
     "output_type": "stream",
     "text": [
      "('Biology', 1)\n",
      "('Computer Science', 2)\n",
      "('Mathematics', 1)\n",
      "('Physics', 1)\n"
     ]
    }
   ],
   "source": [
    "conn = hive.connect(\n",
    "    host='localhost', \n",
    "    port=10000)\n",
    "\n",
    "cursor = conn.cursor()\n",
    "\n",
    "cursor.execute(\"\"\"\n",
    "    SELECT major, COUNT(*) as total_students\n",
    "    FROM students\n",
    "    GROUP BY major\n",
    "\"\"\")\n",
    "\n",
    "for row in cursor.fetchall():\n",
    "    print(row)\n",
    "\n",
    "cursor.close()\n",
    "conn.close()"
   ]
  },
  {
   "cell_type": "code",
   "execution_count": 17,
   "metadata": {},
   "outputs": [
    {
     "name": "stdout",
     "output_type": "stream",
     "text": [
      "(21.2,)\n"
     ]
    }
   ],
   "source": [
    "conn = hive.connect(\n",
    "    host='localhost', \n",
    "    port=10000)\n",
    "\n",
    "cursor = conn.cursor()\n",
    "\n",
    "cursor.execute(\"\"\"\n",
    "    SELECT AVG(age) as average_age\n",
    "    FROM students\n",
    "\"\"\")\n",
    "\n",
    "for row in cursor.fetchall():\n",
    "    print(row)\n",
    "\n",
    "cursor.close()\n",
    "conn.close()"
   ]
  }
 ],
 "metadata": {
  "kernelspec": {
   "display_name": ".venv",
   "language": "python",
   "name": "python3"
  },
  "language_info": {
   "codemirror_mode": {
    "name": "ipython",
    "version": 3
   },
   "file_extension": ".py",
   "mimetype": "text/x-python",
   "name": "python",
   "nbconvert_exporter": "python",
   "pygments_lexer": "ipython3",
   "version": "3.11.5"
  }
 },
 "nbformat": 4,
 "nbformat_minor": 2
}
